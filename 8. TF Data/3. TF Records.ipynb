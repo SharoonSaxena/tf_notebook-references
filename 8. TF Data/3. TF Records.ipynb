{
  "cells": [
    {
      "cell_type": "markdown",
      "metadata": {
        "colab_type": "text",
        "id": "view-in-github"
      },
      "source": [
        "<a href=\"https://colab.research.google.com/github/https-deeplearning-ai/tensorflow-2-public/blob/adding_C3/C3/W2/ungraded_labs/C3_W2_Lab_2_tfrecords.ipynb\" target=\"_parent\"><img src=\"https://colab.research.google.com/assets/colab-badge.svg\" alt=\"Open In Colab\"/></a>"
      ]
    },
    {
      "cell_type": "markdown",
      "metadata": {
        "id": "ue5qhD5Fsgeg"
      },
      "source": [
        "# TFRecords"
      ]
    },
    {
      "cell_type": "code",
      "execution_count": 1,
      "metadata": {
        "id": "QGWOsReCW451"
      },
      "outputs": [
        {
          "name": "stderr",
          "output_type": "stream",
          "text": [
            "2022-10-01 14:21:20.282958: I tensorflow/stream_executor/cuda/cuda_gpu_executor.cc:975] successful NUMA node read from SysFS had negative value (-1), but there must be at least one NUMA node, so returning NUMA node zero\n",
            "2022-10-01 14:21:20.335528: I tensorflow/stream_executor/cuda/cuda_gpu_executor.cc:975] successful NUMA node read from SysFS had negative value (-1), but there must be at least one NUMA node, so returning NUMA node zero\n",
            "2022-10-01 14:21:20.335854: I tensorflow/stream_executor/cuda/cuda_gpu_executor.cc:975] successful NUMA node read from SysFS had negative value (-1), but there must be at least one NUMA node, so returning NUMA node zero\n",
            "2022-10-01 14:21:20.337880: I tensorflow/core/platform/cpu_feature_guard.cc:193] This TensorFlow binary is optimized with oneAPI Deep Neural Network Library (oneDNN) to use the following CPU instructions in performance-critical operations:  AVX2 FMA\n",
            "To enable them in other operations, rebuild TensorFlow with the appropriate compiler flags.\n",
            "2022-10-01 14:21:20.340173: I tensorflow/stream_executor/cuda/cuda_gpu_executor.cc:975] successful NUMA node read from SysFS had negative value (-1), but there must be at least one NUMA node, so returning NUMA node zero\n",
            "2022-10-01 14:21:20.340470: I tensorflow/stream_executor/cuda/cuda_gpu_executor.cc:975] successful NUMA node read from SysFS had negative value (-1), but there must be at least one NUMA node, so returning NUMA node zero\n",
            "2022-10-01 14:21:20.340746: I tensorflow/stream_executor/cuda/cuda_gpu_executor.cc:975] successful NUMA node read from SysFS had negative value (-1), but there must be at least one NUMA node, so returning NUMA node zero\n",
            "2022-10-01 14:21:21.141058: I tensorflow/stream_executor/cuda/cuda_gpu_executor.cc:975] successful NUMA node read from SysFS had negative value (-1), but there must be at least one NUMA node, so returning NUMA node zero\n",
            "2022-10-01 14:21:21.141371: I tensorflow/stream_executor/cuda/cuda_gpu_executor.cc:975] successful NUMA node read from SysFS had negative value (-1), but there must be at least one NUMA node, so returning NUMA node zero\n",
            "2022-10-01 14:21:21.141641: I tensorflow/stream_executor/cuda/cuda_gpu_executor.cc:975] successful NUMA node read from SysFS had negative value (-1), but there must be at least one NUMA node, so returning NUMA node zero\n",
            "2022-10-01 14:21:21.141898: I tensorflow/core/common_runtime/gpu/gpu_device.cc:1532] Created device /job:localhost/replica:0/task:0/device:GPU:0 with 2134 MB memory:  -> device: 0, name: NVIDIA T600, pci bus id: 0000:0a:00.0, compute capability: 7.5\n"
          ]
        }
      ],
      "source": [
        "import tensorflow as tf\n",
        "import tensorflow_datasets as tfds\n",
        "data, info = tfds.load(\"mnist\", with_info=True)"
      ]
    },
    {
      "cell_type": "code",
      "execution_count": 3,
      "metadata": {
        "id": "qQKYSLCXbcCE"
      },
      "outputs": [
        {
          "name": "stdout",
          "output_type": "stream",
          "text": [
            "<tf.Tensor: shape=(), dtype=string, numpy=b\"\\n\\x85\\x03\\n\\xf2\\x02\\n\\x05image\\x12\\xe8\\x02\\n\\xe5\\x02\\n\\xe2\\x02\\x89PNG\\r\\n\\x1a\\n\\x00\\x00\\x00\\rIHDR\\x00\\x00\\x00\\x1c\\x00\\x00\\x00\\x1c\\x08\\x00\\x00\\x00\\x00Wf\\x80H\\x00\\x00\\x01)IDAT(\\x91\\xc5\\xd2\\xbdK\\xc3P\\x14\\x05\\xf0S(v\\x13)\\x04,.\\x82\\xc5Aq\\xac\\xedb\\x1d\\xdc\\n.\\x12\\x87n\\x0e\\x82\\x93\\x7f@Q\\xb2\\x08\\xba\\tbQ0.\\xe2\\xe2\\xd4\\xb1\\xa2h\\x9c\\x82\\xba\\x8a(\\nq\\xf0\\x83Fh\\x95\\n6\\x88\\xe7R\\x87\\x88\\xf9\\xa8Y\\xf5\\x0e\\x8f\\xc7\\xfd\\xdd\\x0b\\x87\\xc7\\x03\\xfe\\xbeb\\x9d\\xadT\\x927Q\\xe3\\xe9\\x07:\\xab\\xbf\\xf4\\xf3\\xcf\\xf6\\x8a\\xd9\\x14\\xd29\\xea\\xb0\\x1eKH\\xde\\xab\\xea%\\xaba\\x1b=\\xa4P/\\xf5\\x02\\xd7\\\\\\x07\\x00\\xc4=,L\\xc0,>\\x01@2\\xf6\\x12\\xde\\x9c\\xde[t/\\xb3\\x0e\\x87\\xa2\\xe2\\xc2\\xe0A<\\xca\\xb26\\xd5(\\x1b\\xa9\\xd3\\xe8\\x0e\\xf5\\x86\\x17\\xceE\\xdarV\\xae\\xb7_\\xf3AR\\r!I\\xf7(\\x06m\\xaaE\\xbb\\xb6\\xac\\r*\\x9b$e<\\xb8\\xd7\\xa2\\x0e\\x00\\xd0l\\x92\\xb2\\xd5\\x15\\xcc\\xae'\\x00\\xf4m\\x08O'+\\xc2y\\x9f\\x8d\\xc9\\x15\\x80\\xfe\\x99[q\\x962@CN|i\\xf7\\xa9!=\\xd7 \\xab\\x19\\x00\\xc8\\xd6\\xb8\\xeb\\xa1\\xf0\\xd8l\\xca\\xfb]\\xee\\xfb]*\\x9fV\\xe1\\x07\\xb7\\xc9\\x8b55\\xe7M\\xef\\xb0\\x04\\xc0\\xfd&\\x89\\x01<\\xbe\\xf9\\x03*\\x8a\\xf5\\x81\\x7f\\xaa/2y\\x87ks\\xec\\x1e\\xc1\\x00\\x00\\x00\\x00IEND\\xaeB`\\x82\\n\\x0e\\n\\x05label\\x12\\x05\\x1a\\x03\\n\\x01\\x02\">\n"
          ]
        }
      ],
      "source": [
        "# if you are running the notebook on your local machine, specify the path to the dowloaded file, and also change the version you are using\n",
        "# for example, this is my file path, and the version I have is 3.0.1\n",
        "# %cd ~\n",
        "# filename=\"./tensorflow_datasets/mnist/3.0.1/mnist-test.tfrecord-00000-of-00001\"\n",
        "\n",
        "# if you are running the notebook on Colab. Change the dataset version accordingly.\n",
        "filename=\"/home/sharoon/Desktop/git/tf_notebook-references/8. TF Data/~/tensorflow_datasets/mnist/3.0.1/mnist-test.tfrecord-00000-of-00001\"\n",
        "\n",
        "raw_dataset = tf.data.TFRecordDataset(filename)\n",
        "for raw_record in raw_dataset.take(1):\n",
        "    print(repr(raw_record))"
      ]
    },
    {
      "cell_type": "code",
      "execution_count": 4,
      "metadata": {
        "id": "z4kLJbVtblJ7"
      },
      "outputs": [
        {
          "name": "stdout",
          "output_type": "stream",
          "text": [
            "{'image': <tf.Tensor: shape=(), dtype=string, numpy=b\"\\x89PNG\\r\\n\\x1a\\n\\x00\\x00\\x00\\rIHDR\\x00\\x00\\x00\\x1c\\x00\\x00\\x00\\x1c\\x08\\x00\\x00\\x00\\x00Wf\\x80H\\x00\\x00\\x01)IDAT(\\x91\\xc5\\xd2\\xbdK\\xc3P\\x14\\x05\\xf0S(v\\x13)\\x04,.\\x82\\xc5Aq\\xac\\xedb\\x1d\\xdc\\n.\\x12\\x87n\\x0e\\x82\\x93\\x7f@Q\\xb2\\x08\\xba\\tbQ0.\\xe2\\xe2\\xd4\\xb1\\xa2h\\x9c\\x82\\xba\\x8a(\\nq\\xf0\\x83Fh\\x95\\n6\\x88\\xe7R\\x87\\x88\\xf9\\xa8Y\\xf5\\x0e\\x8f\\xc7\\xfd\\xdd\\x0b\\x87\\xc7\\x03\\xfe\\xbeb\\x9d\\xadT\\x927Q\\xe3\\xe9\\x07:\\xab\\xbf\\xf4\\xf3\\xcf\\xf6\\x8a\\xd9\\x14\\xd29\\xea\\xb0\\x1eKH\\xde\\xab\\xea%\\xaba\\x1b=\\xa4P/\\xf5\\x02\\xd7\\\\\\x07\\x00\\xc4=,L\\xc0,>\\x01@2\\xf6\\x12\\xde\\x9c\\xde[t/\\xb3\\x0e\\x87\\xa2\\xe2\\xc2\\xe0A<\\xca\\xb26\\xd5(\\x1b\\xa9\\xd3\\xe8\\x0e\\xf5\\x86\\x17\\xceE\\xdarV\\xae\\xb7_\\xf3AR\\r!I\\xf7(\\x06m\\xaaE\\xbb\\xb6\\xac\\r*\\x9b$e<\\xb8\\xd7\\xa2\\x0e\\x00\\xd0l\\x92\\xb2\\xd5\\x15\\xcc\\xae'\\x00\\xf4m\\x08O'+\\xc2y\\x9f\\x8d\\xc9\\x15\\x80\\xfe\\x99[q\\x962@CN|i\\xf7\\xa9!=\\xd7 \\xab\\x19\\x00\\xc8\\xd6\\xb8\\xeb\\xa1\\xf0\\xd8l\\xca\\xfb]\\xee\\xfb]*\\x9fV\\xe1\\x07\\xb7\\xc9\\x8b55\\xe7M\\xef\\xb0\\x04\\xc0\\xfd&\\x89\\x01<\\xbe\\xf9\\x03*\\x8a\\xf5\\x81\\x7f\\xaa/2y\\x87ks\\xec\\x1e\\xc1\\x00\\x00\\x00\\x00IEND\\xaeB`\\x82\">, 'label': <tf.Tensor: shape=(), dtype=int64, numpy=2>}\n"
          ]
        }
      ],
      "source": [
        "# Create a description of the features.\n",
        "feature_description = {\n",
        "    'image': tf.io.FixedLenFeature([], dtype=tf.string),\n",
        "    'label': tf.io.FixedLenFeature([], dtype=tf.int64),\n",
        "}\n",
        "\n",
        "def _parse_function(example_proto):\n",
        "  # Parse the input `tf.Example` proto using the dictionary above.\n",
        "  return tf.io.parse_single_example(example_proto, feature_description)\n",
        "\n",
        "parsed_dataset = raw_dataset.map(_parse_function)\n",
        "for parsed_record in parsed_dataset.take(1):\n",
        "    print((parsed_record))"
      ]
    },
    {
      "cell_type": "code",
      "execution_count": null,
      "metadata": {
        "id": "mAW4b8f83Gy-"
      },
      "outputs": [],
      "source": []
    },
    {
      "cell_type": "code",
      "execution_count": null,
      "metadata": {},
      "outputs": [],
      "source": []
    }
  ],
  "metadata": {
    "accelerator": "GPU",
    "colab": {
      "collapsed_sections": [],
      "include_colab_link": true,
      "name": "C3_W2_Lab_2_tfrecords.ipynb",
      "provenance": []
    },
    "kernelspec": {
      "display_name": "Python 3.9.5 ('tf112')",
      "language": "python",
      "name": "python3"
    },
    "language_info": {
      "codemirror_mode": {
        "name": "ipython",
        "version": 3
      },
      "file_extension": ".py",
      "mimetype": "text/x-python",
      "name": "python",
      "nbconvert_exporter": "python",
      "pygments_lexer": "ipython3",
      "version": "3.9.5"
    },
    "vscode": {
      "interpreter": {
        "hash": "bf259153a16f0bc38a2ce5bca8735967bc36b047312e0a6f5ab67c35034c155f"
      }
    }
  },
  "nbformat": 4,
  "nbformat_minor": 0
}
