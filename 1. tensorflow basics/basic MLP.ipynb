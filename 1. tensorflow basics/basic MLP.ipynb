{
 "cells": [
  {
   "cell_type": "code",
   "execution_count": 41,
   "id": "98706450-f108-45b9-88ac-9ec50a289f7a",
   "metadata": {},
   "outputs": [],
   "source": [
    "%load_ext lab_black\n",
    "import tensorflow as tf\n",
    "from tensorflow import keras\n",
    "import numpy as np\n",
    "import warnings\n",
    "\n",
    "warnings.filterwarnings(action=\"ignore\")"
   ]
  },
  {
   "cell_type": "code",
   "execution_count": 42,
   "id": "8d7fb202-8a6e-495a-aae8-cf57ffad26d6",
   "metadata": {},
   "outputs": [],
   "source": [
    "xs = np.array([-1.0, 0.0, 1.0, 2.0, 3.0, 4.0], dtype=float)\n",
    "ys = np.array([-3.0, -1.0, 1.0, 3.0, 5.0, 7.0], dtype=float)"
   ]
  },
  {
   "cell_type": "code",
   "execution_count": 46,
   "id": "4ec382ed-4d4a-4dc2-9d8d-0b741eb44aed",
   "metadata": {
    "tags": []
   },
   "outputs": [],
   "source": [
    "# defining layers\n",
    "l0 = tf.keras.layers.Dense(units=20, input_shape=[1])\n",
    "l1 = tf.keras.layers.Dense(units=1)\n",
    "\n",
    "# passing layers to model\n",
    "model = tf.keras.Sequential([l0, l1])\n",
    "\n",
    "# compiling the model\n",
    "model.compile(loss=\"mean_squared_error\", optimizer=tf.keras.optimizers.Adam(0.1))"
   ]
  },
  {
   "cell_type": "code",
   "execution_count": 47,
   "id": "f59d761f-b48f-47e0-a342-959484653d09",
   "metadata": {},
   "outputs": [],
   "source": [
    "history = model.fit(xs, ys, epochs=500, verbose=False)"
   ]
  },
  {
   "cell_type": "code",
   "execution_count": 48,
   "id": "5d615eeb-f04e-4439-9d93-62822516e041",
   "metadata": {
    "tags": []
   },
   "outputs": [
    {
     "data": {
      "text/plain": [
       "array([[199.]], dtype=float32)"
      ]
     },
     "execution_count": 48,
     "metadata": {},
     "output_type": "execute_result"
    }
   ],
   "source": [
    "model.predict([100.0])"
   ]
  },
  {
   "cell_type": "code",
   "execution_count": 50,
   "id": "30f40f27-4c47-449a-8ab2-8bd775731bb7",
   "metadata": {},
   "outputs": [
    {
     "data": {
      "text/plain": [
       "[array([[-0.16799642, -0.05700566, -0.0478333 , -0.17219633,  0.31513193,\n",
       "          0.50330824,  0.4673819 , -0.20415874,  0.2050676 ,  0.5683845 ,\n",
       "          0.05562972, -0.27189377, -0.77842575, -0.64162004, -0.1292685 ,\n",
       "          0.23557661, -0.68780524, -0.3118988 , -0.24223173,  0.128987  ]],\n",
       "       dtype=float32),\n",
       " array([ 0.15340471,  0.21864752,  0.0738785 ,  0.15374857, -0.40538183,\n",
       "        -0.2955828 , -0.25938392,  0.45403987, -0.25072443, -0.22502224,\n",
       "        -0.43545303,  0.24449216,  0.27415112,  0.21470417,  0.05385496,\n",
       "        -0.25481746,  0.2574937 ,  0.31795517,  0.46951205, -0.07006742],\n",
       "       dtype=float32)]"
      ]
     },
     "execution_count": 50,
     "metadata": {},
     "output_type": "execute_result"
    }
   ],
   "source": [
    "# fetching the weights and biases of the layer l0\n",
    "l0.get_weights()"
   ]
  },
  {
   "cell_type": "code",
   "execution_count": null,
   "id": "fd315b7a-7c50-4f67-9e9e-77a1b5e6824e",
   "metadata": {},
   "outputs": [],
   "source": []
  }
 ],
 "metadata": {
  "kernelspec": {
   "display_name": "Python 3",
   "language": "python",
   "name": "python3"
  },
  "language_info": {
   "codemirror_mode": {
    "name": "ipython",
    "version": 3
   },
   "file_extension": ".py",
   "mimetype": "text/x-python",
   "name": "python",
   "nbconvert_exporter": "python",
   "pygments_lexer": "ipython3",
   "version": "3.8.5"
  }
 },
 "nbformat": 4,
 "nbformat_minor": 5
}
