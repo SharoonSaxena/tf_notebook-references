{
 "cells": [
  {
   "cell_type": "code",
   "execution_count": 1,
   "id": "9062ff7c-6e30-4d1f-b154-10ff59371f5d",
   "metadata": {},
   "outputs": [],
   "source": [
    "%load_ext lab_black\n",
    "import tensorflow as tf\n",
    "from tensorflow import keras\n",
    "import numpy as np\n",
    "import matplotlib.pyplot as plt"
   ]
  },
  {
   "cell_type": "code",
   "execution_count": 2,
   "id": "fd8a5503-e3a9-4cf5-953e-e582f8395c60",
   "metadata": {},
   "outputs": [],
   "source": [
    "data = keras.datasets.fashion_mnist\n",
    "(train_images, train_labels), (test_images, test_labels) = data.load_data()"
   ]
  },
  {
   "cell_type": "code",
   "execution_count": 3,
   "id": "0bed4ec9-6d52-49d6-8614-2c6d625891ef",
   "metadata": {},
   "outputs": [
    {
     "name": "stdout",
     "output_type": "stream",
     "text": [
      "9\n"
     ]
    },
    {
     "data": {
      "image/png": "[encoded data removed]",
      "text/plain": [
       "<Figure size 432x288 with 1 Axes>"
      ]
     },
     "metadata": {
      "needs_background": "light"
     },
     "output_type": "display_data"
    }
   ],
   "source": [
    "plt.imshow(train_images[1])\n",
    "print(train_labels[0])"
   ]
  },
  {
   "cell_type": "code",
   "execution_count": 4,
   "id": "ca40a740-5f24-4736-bddf-f191c90277fc",
   "metadata": {},
   "outputs": [],
   "source": [
    "train_images = train_images / 255\n",
    "test_images = test_images / 255"
   ]
  },
  {
   "cell_type": "code",
   "execution_count": 5,
   "id": "415fff38-6e34-4091-bf1b-ad1217734719",
   "metadata": {},
   "outputs": [],
   "source": [
    "# defining layers\n",
    "l0 = keras.layers.Flatten()\n",
    "l1 = keras.layers.Dense(512, activation=tf.nn.relu)\n",
    "\n",
    "lf = keras.layers.Dense(10, activation=tf.nn.softmax)"
   ]
  },
  {
   "cell_type": "code",
   "execution_count": 6,
   "id": "07fda1b6-495d-4b1c-b822-f2af716c667d",
   "metadata": {},
   "outputs": [],
   "source": [
    "# defining model\n",
    "model = tf.keras.Sequential([l0, l1, l1, l1, lf])\n",
    "model.compile(\n",
    "    optimizer=tf.keras.optimizers.Adam(0.1), loss=\"sparse_categorical_crossentropy\"\n",
    ")"
   ]
  },
  {
   "cell_type": "code",
   "execution_count": 7,
   "id": "b4c571ba-2e22-4dd9-af29-76eeb840c1e7",
   "metadata": {},
   "outputs": [
    {
     "name": "stdout",
     "output_type": "stream",
     "text": [
      "Epoch 1/10\n",
      "1875/1875 [==============================] - 5s 3ms/step - loss: 2.2246\n",
      "Epoch 2/10\n",
      "1875/1875 [==============================] - 5s 3ms/step - loss: 2.0798\n",
      "Epoch 3/10\n",
      "1875/1875 [==============================] - 5s 3ms/step - loss: 2.1864\n",
      "Epoch 4/10\n",
      "1875/1875 [==============================] - 5s 3ms/step - loss: 2.2065\n",
      "Epoch 5/10\n",
      "1875/1875 [==============================] - 5s 3ms/step - loss: 2.1896\n",
      "Epoch 6/10\n",
      "1875/1875 [==============================] - 5s 3ms/step - loss: 2.2226\n",
      "Epoch 7/10\n",
      "1875/1875 [==============================] - 5s 3ms/step - loss: 2.1919\n",
      "Epoch 8/10\n",
      "1875/1875 [==============================] - 5s 3ms/step - loss: 2.1829\n",
      "Epoch 9/10\n",
      "1875/1875 [==============================] - 5s 3ms/step - loss: 2.1919\n",
      "Epoch 10/10\n",
      "1875/1875 [==============================] - 5s 3ms/step - loss: 2.1656\n"
     ]
    },
    {
     "data": {
      "text/plain": [
       "<tensorflow.python.keras.callbacks.History at 0x7f618a189910>"
      ]
     },
     "execution_count": 7,
     "metadata": {},
     "output_type": "execute_result"
    }
   ],
   "source": [
    "# training\n",
    "model.fit(train_images, train_labels, epochs=10)"
   ]
  },
  {
   "cell_type": "code",
   "execution_count": 8,
   "id": "f50582bd-fbc7-4f1f-8390-632117fc79ef",
   "metadata": {},
   "outputs": [
    {
     "name": "stdout",
     "output_type": "stream",
     "text": [
      "313/313 [==============================] - 1s 1ms/step - loss: 2.1955\n"
     ]
    },
    {
     "data": {
      "text/plain": [
       "2.195469379425049"
      ]
     },
     "execution_count": 8,
     "metadata": {},
     "output_type": "execute_result"
    }
   ],
   "source": [
    "# evaluating model\n",
    "model.evaluate(\n",
    "    test_images,\n",
    "    test_labels,\n",
    ")"
   ]
  },
  {
   "cell_type": "markdown",
   "id": "541b5c9b-ea56-4f3a-8b50-fcbb0f60727c",
   "metadata": {},
   "source": [
    "### Call Backs:\n",
    "CallBacks allow us to control the training of the model and not have to wait for all the epochs to be over.\n",
    "\n",
    "Controlling factor can fe fetched from **logs.get()**."
   ]
  },
  {
   "cell_type": "code",
   "execution_count": 11,
   "id": "8d1dc24b-8c91-46b0-af9f-8c2372fd5d47",
   "metadata": {},
   "outputs": [],
   "source": [
    "class MyCallback(keras.callbacks.Callback):\n",
    "    def on_epoch_end(self, epoch, logs={}):\n",
    "        \"\"\"\n",
    "        will chech the loss at the end of the epochs, if it is below a threshold. STOP\n",
    "        \"\"\"\n",
    "        if logs.get(\"loss\") < 2.5:\n",
    "            print(\"stopping training process\")\n",
    "            self.model.stop_training = True"
   ]
  },
  {
   "cell_type": "code",
   "execution_count": 12,
   "id": "8b082868-75c4-49a5-85cb-4b08d7dae2b1",
   "metadata": {},
   "outputs": [
    {
     "name": "stdout",
     "output_type": "stream",
     "text": [
      "Epoch 1/10\n",
      "1875/1875 [==============================] - 5s 3ms/step - loss: 2.4681\n",
      "stopping training process\n"
     ]
    },
    {
     "data": {
      "text/plain": [
       "<tensorflow.python.keras.callbacks.History at 0x7f617e9cf1f0>"
      ]
     },
     "execution_count": 12,
     "metadata": {},
     "output_type": "execute_result"
    }
   ],
   "source": [
    "callbacks = MyCallback()\n",
    "data = keras.datasets.fashion_mnist\n",
    "(train_images, train_labels), (test_images, test_labels) = data.load_data()\n",
    "train_images = train_images / 255\n",
    "test_images = test_images / 255\n",
    "\n",
    "# defining layers\n",
    "l0 = keras.layers.Flatten()\n",
    "l1 = keras.layers.Dense(512, activation=tf.nn.relu)\n",
    "lf = keras.layers.Dense(10, activation=tf.nn.softmax)\n",
    "\n",
    "# defining model\n",
    "model = tf.keras.Sequential([l0, l1, l1, l1, lf])\n",
    "model.compile(\n",
    "    optimizer=tf.keras.optimizers.Adam(0.1), loss=\"sparse_categorical_crossentropy\"\n",
    ")\n",
    "# training\n",
    "model.fit(train_images, train_labels, epochs=10, callbacks=[callbacks], workers=8)"
   ]
  },
  {
   "cell_type": "code",
   "execution_count": null,
   "id": "9a931fbc-60a0-426c-88fa-5537d17a5d5b",
   "metadata": {},
   "outputs": [],
   "source": []
  }
 ],
 "metadata": {
  "kernelspec": {
   "display_name": "Python 3",
   "language": "python",
   "name": "python3"
  },
  "language_info": {
   "codemirror_mode": {
    "name": "ipython",
    "version": 3
   },
   "file_extension": ".py",
   "mimetype": "text/x-python",
   "name": "python",
   "nbconvert_exporter": "python",
   "pygments_lexer": "ipython3",
   "version": "3.8.5"
  }
 },
 "nbformat": 4,
 "nbformat_minor": 5
}
