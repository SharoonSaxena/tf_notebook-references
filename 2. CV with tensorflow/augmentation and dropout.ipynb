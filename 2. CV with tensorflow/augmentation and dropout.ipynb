{
 "cells": [
  {
   "cell_type": "code",
   "execution_count": 1,
   "id": "b41d1bcd-66b8-4f87-998d-c6a58274aaf4",
   "metadata": {},
   "outputs": [],
   "source": [
    "%load_ext lab_black"
   ]
  },
  {
   "cell_type": "code",
   "execution_count": 2,
   "id": "4cd77214-75ea-4245-a2a6-1301b7a9ca85",
   "metadata": {},
   "outputs": [],
   "source": [
    "import tensorflow as tf\n",
    "from tensorflow import keras\n",
    "import numpy as np\n",
    "import warnings\n",
    "import os\n",
    "import zipfile\n",
    "\n",
    "warnings.filterwarnings(action=\"ignore\")"
   ]
  },
  {
   "cell_type": "code",
   "execution_count": 3,
   "id": "398eb6ac-ea4e-40d1-bfea-f331dc71f7d7",
   "metadata": {},
   "outputs": [],
   "source": [
    "data = \"/home/sharoonsaxena/Datasets/cats-vs-dogs.zip\"\n",
    "zip_ref = zipfile.ZipFile(data, \"r\")\n",
    "zip_ref.extractall(\"/home/sharoonsaxena/Datasets/extracted/\")\n",
    "zip_ref.close()"
   ]
  },
  {
   "cell_type": "code",
   "execution_count": 3,
   "id": "ade24b00-4cac-4c19-ac06-0e3ea4c3e9a6",
   "metadata": {},
   "outputs": [],
   "source": [
    "# the base address of the data folder\n",
    "base_dir = \"/home/sharoonsaxena/Datasets/extracted/cats-vs-dogs\"\n",
    "\n",
    "# Address of the training and validation folders\n",
    "train_dir = os.path.join(base_dir, \"train\")\n",
    "validation_dir = os.path.join(base_dir, \"validation\")\n",
    "\n",
    "# dogs and cat folders within training\n",
    "train_dogs_dir = os.path.join(train_dir, \"dogs\")\n",
    "train_cats_dir = os.path.join(train_dir, \"cats\")\n",
    "\n",
    "# dogs and cats within validation folder\n",
    "validation_dogs_dir = os.path.join(validation_dir, \"dogs\")\n",
    "validation_cats_dir = os.path.join(validation_dir, \"cats\")"
   ]
  },
  {
   "cell_type": "code",
   "execution_count": 4,
   "id": "637b2cd6-2bfb-4e16-8f84-983414ec0046",
   "metadata": {},
   "outputs": [
    {
     "name": "stdout",
     "output_type": "stream",
     "text": [
      "total training cat images : 12300\n",
      "total training dog images : 12300\n",
      "total validation cat images : 200\n",
      "total validation dog images : 200\n"
     ]
    }
   ],
   "source": [
    "# finding out number od images in the respective directories\n",
    "print(\"total training cat images :\", len(os.listdir(train_cats_dir)))\n",
    "print(\"total training dog images :\", len(os.listdir(train_dogs_dir)))\n",
    "\n",
    "print(\"total validation cat images :\", len(os.listdir(validation_cats_dir)))\n",
    "print(\"total validation dog images :\", len(os.listdir(validation_dogs_dir)))"
   ]
  },
  {
   "cell_type": "code",
   "execution_count": 5,
   "id": "129da45f-c0cd-4a2b-9548-be5d92598b3c",
   "metadata": {},
   "outputs": [],
   "source": [
    "model = tf.keras.models.Sequential(\n",
    "    [\n",
    "        # Note the input shape is the desired size of the image 150x150 with 3 bytes color\n",
    "        tf.keras.layers.Conv2D(\n",
    "            16, (3, 3), activation=\"relu\", input_shape=(150, 150, 3)\n",
    "        ),\n",
    "        tf.keras.layers.MaxPooling2D(2, 2),\n",
    "        tf.keras.layers.Conv2D(32, (3, 3), activation=\"relu\"),\n",
    "        tf.keras.layers.MaxPooling2D(2, 2),\n",
    "        tf.keras.layers.Conv2D(64, (3, 3), activation=\"relu\"),\n",
    "        tf.keras.layers.MaxPooling2D(2, 2),\n",
    "        # Flatten the results to feed into a DNN\n",
    "        tf.keras.layers.Flatten(),\n",
    "        # Droppingout from the flattenned convolution layer\n",
    "        tf.keras.layers.Dropout(0.5),\n",
    "        # 512 neuron hidden layer\n",
    "        tf.keras.layers.Dense(512, activation=\"relu\"),\n",
    "        # can dropout from the dense layer too!!\n",
    "        # Only 1 output neuron. It will contain a value from 0-1 where 0 for 1 class ('cats') and 1 for the other ('dogs')\n",
    "        tf.keras.layers.Dense(1, activation=\"sigmoid\"),\n",
    "    ]\n",
    ")"
   ]
  },
  {
   "cell_type": "code",
   "execution_count": 6,
   "id": "46d53402-4b52-41f3-ae40-ef5806ce4a46",
   "metadata": {},
   "outputs": [
    {
     "name": "stdout",
     "output_type": "stream",
     "text": [
      "Model: \"sequential\"\n",
      "_________________________________________________________________\n",
      "Layer (type)                 Output Shape              Param #   \n",
      "=================================================================\n",
      "conv2d (Conv2D)              (None, 148, 148, 16)      448       \n",
      "_________________________________________________________________\n",
      "max_pooling2d (MaxPooling2D) (None, 74, 74, 16)        0         \n",
      "_________________________________________________________________\n",
      "conv2d_1 (Conv2D)            (None, 72, 72, 32)        4640      \n",
      "_________________________________________________________________\n",
      "max_pooling2d_1 (MaxPooling2 (None, 36, 36, 32)        0         \n",
      "_________________________________________________________________\n",
      "conv2d_2 (Conv2D)            (None, 34, 34, 64)        18496     \n",
      "_________________________________________________________________\n",
      "max_pooling2d_2 (MaxPooling2 (None, 17, 17, 64)        0         \n",
      "_________________________________________________________________\n",
      "flatten (Flatten)            (None, 18496)             0         \n",
      "_________________________________________________________________\n",
      "dropout (Dropout)            (None, 18496)             0         \n",
      "_________________________________________________________________\n",
      "dense (Dense)                (None, 512)               9470464   \n",
      "_________________________________________________________________\n",
      "dense_1 (Dense)              (None, 1)                 513       \n",
      "=================================================================\n",
      "Total params: 9,494,561\n",
      "Trainable params: 9,494,561\n",
      "Non-trainable params: 0\n",
      "_________________________________________________________________\n"
     ]
    }
   ],
   "source": [
    "model.summary()"
   ]
  },
  {
   "cell_type": "code",
   "execution_count": 7,
   "id": "210cf449-c4bc-4758-a8bc-53a874812aea",
   "metadata": {},
   "outputs": [],
   "source": [
    "from tensorflow.keras.optimizers import RMSprop\n",
    "\n",
    "model.compile(\n",
    "    optimizer=RMSprop(lr=0.001), loss=\"binary_crossentropy\", metrics=[\"accuracy\"]\n",
    ")"
   ]
  },
  {
   "cell_type": "code",
   "execution_count": 8,
   "id": "06c93953-252d-4b67-8d3b-8870dac2aeae",
   "metadata": {},
   "outputs": [
    {
     "name": "stdout",
     "output_type": "stream",
     "text": [
      "Found 24600 images belonging to 2 classes.\n",
      "Found 400 images belonging to 2 classes.\n"
     ]
    }
   ],
   "source": [
    "from tensorflow.keras.preprocessing.image import ImageDataGenerator\n",
    "\n",
    "# rescaling images and performing Augmentation of images\n",
    "train_datagen = ImageDataGenerator(\n",
    "    rescale=1.0 / 255.0,\n",
    "    rotation_range=90,\n",
    "    width_shift_range=0.2,\n",
    "    height_shift_range=0.2,\n",
    "    shear_range=0.2,\n",
    "    zoom_range=0.2,\n",
    "    horizontal_flip=True,\n",
    "    fill_mode=\"nearest\",\n",
    ")\n",
    "\n",
    "# input flow of training images\n",
    "train_generator = train_datagen.flow_from_directory(\n",
    "    train_dir,\n",
    "    batch_size=2460,\n",
    "    class_mode=\"binary\",\n",
    "    target_size=(150, 150),\n",
    "    shuffle=True,\n",
    ")\n",
    "\n",
    "\n",
    "# rescaling validation images (not performinf augmentation here)\n",
    "validation_datagen = ImageDataGenerator(rescale=1.0 / 255.0)\n",
    "\n",
    "# input flow from validation images\n",
    "validation_generator = validation_datagen.flow_from_directory(\n",
    "    validation_dir, batch_size=200, class_mode=\"binary\", target_size=(150, 150)\n",
    ")"
   ]
  },
  {
   "cell_type": "code",
   "execution_count": 9,
   "id": "affc8b60-1d6a-4ff8-b5eb-38c68fc62bcd",
   "metadata": {},
   "outputs": [
    {
     "name": "stdout",
     "output_type": "stream",
     "text": [
      "Epoch 1/20\n",
      "10/10 [==============================] - 623s 59s/step - loss: 1.1663 - accuracy: 0.5080 - val_loss: 0.6936 - val_accuracy: 0.5000\n",
      "Epoch 2/20\n",
      "10/10 [==============================] - 609s 58s/step - loss: 0.6897 - accuracy: 0.5233 - val_loss: 0.6694 - val_accuracy: 0.6750\n",
      "Epoch 3/20\n",
      "10/10 [==============================] - 637s 60s/step - loss: 0.6778 - accuracy: 0.5650 - val_loss: 0.6515 - val_accuracy: 0.6750\n",
      "Epoch 4/20\n",
      "10/10 [==============================] - 573s 54s/step - loss: 0.6873 - accuracy: 0.5686 - val_loss: 0.6672 - val_accuracy: 0.6125\n",
      "Epoch 5/20\n",
      "10/10 [==============================] - 611s 58s/step - loss: 0.6682 - accuracy: 0.5846 - val_loss: 0.6311 - val_accuracy: 0.6350\n",
      "Epoch 6/20\n",
      "10/10 [==============================] - 599s 57s/step - loss: 0.6936 - accuracy: 0.6107 - val_loss: 0.6317 - val_accuracy: 0.6900\n",
      "Epoch 7/20\n",
      "10/10 [==============================] - 612s 60s/step - loss: 0.6523 - accuracy: 0.6200 - val_loss: 0.6057 - val_accuracy: 0.7025\n",
      "Epoch 8/20\n",
      "10/10 [==============================] - 626s 60s/step - loss: 0.6392 - accuracy: 0.6290 - val_loss: 0.5805 - val_accuracy: 0.7100\n",
      "Epoch 9/20\n",
      "10/10 [==============================] - 671s 64s/step - loss: 0.6668 - accuracy: 0.6054 - val_loss: 0.6104 - val_accuracy: 0.7100\n",
      "Epoch 10/20\n",
      "10/10 [==============================] - 624s 59s/step - loss: 0.6328 - accuracy: 0.6413 - val_loss: 0.6439 - val_accuracy: 0.6475\n",
      "Epoch 11/20\n",
      "10/10 [==============================] - 652s 62s/step - loss: 0.6557 - accuracy: 0.6188 - val_loss: 0.5881 - val_accuracy: 0.7025\n",
      "Epoch 12/20\n",
      "10/10 [==============================] - 659s 65s/step - loss: 0.6316 - accuracy: 0.6400 - val_loss: 0.5877 - val_accuracy: 0.6950\n",
      "Epoch 13/20\n",
      "10/10 [==============================] - 429s 37s/step - loss: 0.6189 - accuracy: 0.6504 - val_loss: 0.6081 - val_accuracy: 0.6350\n",
      "Epoch 14/20\n",
      "10/10 [==============================] - 323s 31s/step - loss: 0.6366 - accuracy: 0.6289 - val_loss: 0.5801 - val_accuracy: 0.7175\n",
      "Epoch 15/20\n",
      "10/10 [==============================] - 327s 32s/step - loss: 0.6190 - accuracy: 0.6465 - val_loss: 0.5623 - val_accuracy: 0.6875\n",
      "Epoch 16/20\n",
      "10/10 [==============================] - 322s 31s/step - loss: 0.6326 - accuracy: 0.6397 - val_loss: 0.5811 - val_accuracy: 0.7350\n",
      "Epoch 17/20\n",
      "10/10 [==============================] - 320s 31s/step - loss: 0.6235 - accuracy: 0.6548 - val_loss: 0.5525 - val_accuracy: 0.7275\n",
      "Epoch 18/20\n",
      "10/10 [==============================] - 342s 33s/step - loss: 0.6094 - accuracy: 0.6639 - val_loss: 0.6516 - val_accuracy: 0.6125\n",
      "Epoch 19/20\n",
      "10/10 [==============================] - 333s 32s/step - loss: 0.6189 - accuracy: 0.6567 - val_loss: 0.5751 - val_accuracy: 0.6850\n",
      "Epoch 20/20\n",
      "10/10 [==============================] - 301s 29s/step - loss: 0.6028 - accuracy: 0.6651 - val_loss: 0.5964 - val_accuracy: 0.6525\n"
     ]
    }
   ],
   "source": [
    "history = model.fit_generator(\n",
    "    train_generator, validation_data=validation_generator, epochs=20\n",
    ")"
   ]
  },
  {
   "cell_type": "code",
   "execution_count": 10,
   "id": "094d7d24-b386-4c49-b3d6-6e45fcdf3a39",
   "metadata": {},
   "outputs": [
    {
     "data": {
      "image/png": "[encoded data removed]",
      "text/plain": [
       "<Figure size 432x288 with 1 Axes>"
      ]
     },
     "metadata": {
      "needs_background": "light"
     },
     "output_type": "display_data"
    },
    {
     "data": {
      "text/plain": [
       "<Figure size 432x288 with 0 Axes>"
      ]
     },
     "metadata": {},
     "output_type": "display_data"
    }
   ],
   "source": [
    "import matplotlib.pyplot as plt\n",
    "\n",
    "acc = history.history[\"accuracy\"]\n",
    "val_acc = history.history[\"val_accuracy\"]\n",
    "loss = history.history[\"loss\"]\n",
    "val_loss = history.history[\"val_loss\"]\n",
    "\n",
    "epochs = range(len(acc))\n",
    "\n",
    "plt.plot(epochs, acc, \"r\", label=\"Training accuracy\")\n",
    "plt.plot(epochs, val_acc, \"b\", label=\"Validation accuracy\")\n",
    "plt.title(\"Training and validation accuracy\")\n",
    "plt.legend(loc=0)\n",
    "plt.figure()\n",
    "\n",
    "\n",
    "plt.show()"
   ]
  },
  {
   "cell_type": "code",
   "execution_count": null,
   "id": "d436ec0c-36b0-475e-ba93-88ff95ca1d7d",
   "metadata": {},
   "outputs": [],
   "source": []
  },
  {
   "cell_type": "code",
   "execution_count": null,
   "id": "e8eac483-9120-4288-9f7f-bb8731cacdb6",
   "metadata": {},
   "outputs": [],
   "source": []
  },
  {
   "cell_type": "code",
   "execution_count": null,
   "id": "3f0520eb-f630-4956-bb09-96c04a8f3419",
   "metadata": {},
   "outputs": [],
   "source": []
  }
 ],
 "metadata": {
  "kernelspec": {
   "display_name": "Python 3",
   "language": "python",
   "name": "python3"
  },
  "language_info": {
   "codemirror_mode": {
    "name": "ipython",
    "version": 3
   },
   "file_extension": ".py",
   "mimetype": "text/x-python",
   "name": "python",
   "nbconvert_exporter": "python",
   "pygments_lexer": "ipython3",
   "version": "3.8.5"
  }
 },
 "nbformat": 4,
 "nbformat_minor": 5
}
