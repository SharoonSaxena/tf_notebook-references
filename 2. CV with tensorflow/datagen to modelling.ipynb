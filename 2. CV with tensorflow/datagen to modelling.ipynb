{
 "cells": [
  {
   "cell_type": "code",
   "execution_count": 1,
   "id": "b41d1bcd-66b8-4f87-998d-c6a58274aaf4",
   "metadata": {},
   "outputs": [],
   "source": [
    "%load_ext lab_black"
   ]
  },
  {
   "cell_type": "code",
   "execution_count": 2,
   "id": "4cd77214-75ea-4245-a2a6-1301b7a9ca85",
   "metadata": {},
   "outputs": [],
   "source": [
    "import tensorflow as tf\n",
    "from tensorflow import keras\n",
    "import numpy as np\n",
    "import warnings\n",
    "import os\n",
    "import zipfile\n",
    "\n",
    "warnings.filterwarnings(action=\"ignore\")"
   ]
  },
  {
   "cell_type": "code",
   "execution_count": 3,
   "id": "398eb6ac-ea4e-40d1-bfea-f331dc71f7d7",
   "metadata": {},
   "outputs": [],
   "source": [
    "data = \"/home/sharoonsaxena/Datasets/cats-vs-dogs.zip\"\n",
    "zip_ref = zipfile.ZipFile(data, \"r\")\n",
    "zip_ref.extractall(\"/home/sharoonsaxena/Datasets/extracted/\")\n",
    "zip_ref.close()"
   ]
  },
  {
   "cell_type": "code",
   "execution_count": 3,
   "id": "ade24b00-4cac-4c19-ac06-0e3ea4c3e9a6",
   "metadata": {},
   "outputs": [],
   "source": [
    "# the base address of the data folder\n",
    "base_dir = \"/home/sharoonsaxena/Datasets/extracted/cats-vs-dogs\"\n",
    "\n",
    "# Address of the training and validation folders\n",
    "train_dir = os.path.join(base_dir, \"train\")\n",
    "validation_dir = os.path.join(base_dir, \"validation\")\n",
    "\n",
    "# dogs and cat folders within training\n",
    "train_dogs_dir = os.path.join(train_dir, \"dogs\")\n",
    "train_cats_dir = os.path.join(train_dir, \"cats\")\n",
    "\n",
    "# dogs and cats within validation folder\n",
    "validation_dogs_dir = os.path.join(validation_dir, \"dogs\")\n",
    "validation_cats_dir = os.path.join(validation_dir, \"cats\")"
   ]
  },
  {
   "cell_type": "code",
   "execution_count": 4,
   "id": "637b2cd6-2bfb-4e16-8f84-983414ec0046",
   "metadata": {},
   "outputs": [
    {
     "name": "stdout",
     "output_type": "stream",
     "text": [
      "total training cat images : 12300\n",
      "total training dog images : 12300\n",
      "total validation cat images : 200\n",
      "total validation dog images : 200\n"
     ]
    }
   ],
   "source": [
    "# finding out number od images in the respective directories\n",
    "print(\"total training cat images :\", len(os.listdir(train_cats_dir)))\n",
    "print(\"total training dog images :\", len(os.listdir(train_dogs_dir)))\n",
    "\n",
    "print(\"total validation cat images :\", len(os.listdir(validation_cats_dir)))\n",
    "print(\"total validation dog images :\", len(os.listdir(validation_dogs_dir)))"
   ]
  },
  {
   "cell_type": "code",
   "execution_count": 5,
   "id": "129da45f-c0cd-4a2b-9548-be5d92598b3c",
   "metadata": {},
   "outputs": [],
   "source": [
    "model = tf.keras.models.Sequential(\n",
    "    [\n",
    "        # Note the input shape is the desired size of the image 150x150 with 3 bytes color\n",
    "        tf.keras.layers.Conv2D(\n",
    "            16, (3, 3), activation=\"relu\", input_shape=(150, 150, 3)\n",
    "        ),\n",
    "        tf.keras.layers.MaxPooling2D(2, 2),\n",
    "        tf.keras.layers.Conv2D(32, (3, 3), activation=\"relu\"),\n",
    "        tf.keras.layers.MaxPooling2D(2, 2),\n",
    "        tf.keras.layers.Conv2D(64, (3, 3), activation=\"relu\"),\n",
    "        tf.keras.layers.MaxPooling2D(2, 2),\n",
    "        # Flatten the results to feed into a DNN\n",
    "        tf.keras.layers.Flatten(),\n",
    "        # 512 neuron hidden layer\n",
    "        tf.keras.layers.Dense(512, activation=\"relu\"),\n",
    "        # Only 1 output neuron. It will contain a value from 0-1 where 0 for 1 class ('cats') and 1 for the other ('dogs')\n",
    "        tf.keras.layers.Dense(1, activation=\"sigmoid\"),\n",
    "    ]\n",
    ")"
   ]
  },
  {
   "cell_type": "code",
   "execution_count": 6,
   "id": "46d53402-4b52-41f3-ae40-ef5806ce4a46",
   "metadata": {},
   "outputs": [
    {
     "name": "stdout",
     "output_type": "stream",
     "text": [
      "Model: \"sequential\"\n",
      "_________________________________________________________________\n",
      "Layer (type)                 Output Shape              Param #   \n",
      "=================================================================\n",
      "conv2d (Conv2D)              (None, 148, 148, 16)      448       \n",
      "_________________________________________________________________\n",
      "max_pooling2d (MaxPooling2D) (None, 74, 74, 16)        0         \n",
      "_________________________________________________________________\n",
      "conv2d_1 (Conv2D)            (None, 72, 72, 32)        4640      \n",
      "_________________________________________________________________\n",
      "max_pooling2d_1 (MaxPooling2 (None, 36, 36, 32)        0         \n",
      "_________________________________________________________________\n",
      "conv2d_2 (Conv2D)            (None, 34, 34, 64)        18496     \n",
      "_________________________________________________________________\n",
      "max_pooling2d_2 (MaxPooling2 (None, 17, 17, 64)        0         \n",
      "_________________________________________________________________\n",
      "flatten (Flatten)            (None, 18496)             0         \n",
      "_________________________________________________________________\n",
      "dense (Dense)                (None, 512)               9470464   \n",
      "_________________________________________________________________\n",
      "dense_1 (Dense)              (None, 1)                 513       \n",
      "=================================================================\n",
      "Total params: 9,494,561\n",
      "Trainable params: 9,494,561\n",
      "Non-trainable params: 0\n",
      "_________________________________________________________________\n"
     ]
    }
   ],
   "source": [
    "model.summary()"
   ]
  },
  {
   "cell_type": "code",
   "execution_count": 7,
   "id": "210cf449-c4bc-4758-a8bc-53a874812aea",
   "metadata": {},
   "outputs": [],
   "source": [
    "from tensorflow.keras.optimizers import RMSprop\n",
    "\n",
    "model.compile(\n",
    "    optimizer=RMSprop(lr=0.001), loss=\"binary_crossentropy\", metrics=[\"accuracy\"]\n",
    ")"
   ]
  },
  {
   "cell_type": "code",
   "execution_count": 8,
   "id": "06c93953-252d-4b67-8d3b-8870dac2aeae",
   "metadata": {},
   "outputs": [
    {
     "name": "stdout",
     "output_type": "stream",
     "text": [
      "Found 24600 images belonging to 2 classes.\n",
      "Found 400 images belonging to 2 classes.\n"
     ]
    }
   ],
   "source": [
    "from tensorflow.keras.preprocessing.image import ImageDataGenerator\n",
    "\n",
    "# rescaling images\n",
    "train_datagen = ImageDataGenerator(rescale=1.0 / 255.0)\n",
    "validation_datagen = ImageDataGenerator(rescale=1.0 / 255.0)\n",
    "\n",
    "# input flow of training images\n",
    "train_generator = train_datagen.flow_from_directory(\n",
    "    train_dir, batch_size=2460, class_mode=\"binary\", target_size=(150, 150)\n",
    ")\n",
    "\n",
    "# input flow from validation images\n",
    "validation_generator = validation_datagen.flow_from_directory(\n",
    "    validation_dir, batch_size=200, class_mode=\"binary\", target_size=(150, 150)\n",
    ")"
   ]
  },
  {
   "cell_type": "code",
   "execution_count": 9,
   "id": "affc8b60-1d6a-4ff8-b5eb-38c68fc62bcd",
   "metadata": {},
   "outputs": [
    {
     "name": "stdout",
     "output_type": "stream",
     "text": [
      "Epoch 1/20\n",
      "10/10 [==============================] - 308s 31s/step - loss: 1.6987 - accuracy: 0.4929 - val_loss: 0.6899 - val_accuracy: 0.6125\n",
      "Epoch 2/20\n",
      "10/10 [==============================] - 386s 37s/step - loss: 0.6899 - accuracy: 0.5527 - val_loss: 0.6759 - val_accuracy: 0.5925\n",
      "Epoch 3/20\n",
      "10/10 [==============================] - 398s 39s/step - loss: 0.6739 - accuracy: 0.5715 - val_loss: 0.7953 - val_accuracy: 0.5025\n",
      "Epoch 4/20\n",
      "10/10 [==============================] - 379s 37s/step - loss: 0.6803 - accuracy: 0.5787 - val_loss: 0.6535 - val_accuracy: 0.6500\n",
      "Epoch 5/20\n",
      "10/10 [==============================] - 402s 38s/step - loss: 0.6557 - accuracy: 0.6196 - val_loss: 0.6768 - val_accuracy: 0.5375\n",
      "Epoch 6/20\n",
      "10/10 [==============================] - 389s 37s/step - loss: 0.6695 - accuracy: 0.6126 - val_loss: 0.6395 - val_accuracy: 0.6825\n",
      "Epoch 7/20\n",
      "10/10 [==============================] - 367s 36s/step - loss: 0.6496 - accuracy: 0.6189 - val_loss: 0.6310 - val_accuracy: 0.6600\n",
      "Epoch 8/20\n",
      "10/10 [==============================] - 388s 38s/step - loss: 0.6476 - accuracy: 0.6485 - val_loss: 0.6390 - val_accuracy: 0.6200\n",
      "Epoch 9/20\n",
      "10/10 [==============================] - 374s 36s/step - loss: 0.6808 - accuracy: 0.6484 - val_loss: 0.6269 - val_accuracy: 0.6675\n",
      "Epoch 10/20\n",
      "10/10 [==============================] - 333s 32s/step - loss: 0.6217 - accuracy: 0.6504 - val_loss: 0.6274 - val_accuracy: 0.7025\n",
      "Epoch 11/20\n",
      "10/10 [==============================] - 379s 37s/step - loss: 0.6039 - accuracy: 0.6774 - val_loss: 0.5816 - val_accuracy: 0.7125\n",
      "Epoch 12/20\n",
      "10/10 [==============================] - 377s 36s/step - loss: 0.6229 - accuracy: 0.6709 - val_loss: 0.5687 - val_accuracy: 0.7175\n",
      "Epoch 13/20\n",
      "10/10 [==============================] - 399s 39s/step - loss: 0.5391 - accuracy: 0.7322 - val_loss: 0.5433 - val_accuracy: 0.7400\n",
      "Epoch 14/20\n",
      "10/10 [==============================] - 392s 38s/step - loss: 0.5892 - accuracy: 0.6904 - val_loss: 0.5472 - val_accuracy: 0.7250\n",
      "Epoch 15/20\n",
      "10/10 [==============================] - 423s 41s/step - loss: 0.5728 - accuracy: 0.6961 - val_loss: 0.5215 - val_accuracy: 0.7375\n",
      "Epoch 16/20\n",
      "10/10 [==============================] - 442s 42s/step - loss: 0.5147 - accuracy: 0.7446 - val_loss: 0.5630 - val_accuracy: 0.7200\n",
      "Epoch 17/20\n",
      "10/10 [==============================] - 365s 35s/step - loss: 0.5511 - accuracy: 0.7156 - val_loss: 0.5354 - val_accuracy: 0.7200\n",
      "Epoch 18/20\n",
      "10/10 [==============================] - 392s 37s/step - loss: 0.5071 - accuracy: 0.7460 - val_loss: 0.5309 - val_accuracy: 0.7325\n",
      "Epoch 19/20\n",
      "10/10 [==============================] - 433s 43s/step - loss: 0.5193 - accuracy: 0.7413 - val_loss: 0.5775 - val_accuracy: 0.7250\n",
      "Epoch 20/20\n",
      "10/10 [==============================] - 398s 39s/step - loss: 0.5265 - accuracy: 0.7360 - val_loss: 0.5192 - val_accuracy: 0.7325\n"
     ]
    }
   ],
   "source": [
    "history = model.fit_generator(\n",
    "    train_generator, validation_data=validation_generator, epochs=20\n",
    ")"
   ]
  },
  {
   "cell_type": "code",
   "execution_count": 10,
   "id": "094d7d24-b386-4c49-b3d6-6e45fcdf3a39",
   "metadata": {},
   "outputs": [
    {
     "data": {
      "image/png": "[encoded data removed]",
      "text/plain": [
       "<Figure size 432x288 with 1 Axes>"
      ]
     },
     "metadata": {
      "needs_background": "light"
     },
     "output_type": "display_data"
    },
    {
     "data": {
      "text/plain": [
       "<Figure size 432x288 with 0 Axes>"
      ]
     },
     "metadata": {},
     "output_type": "display_data"
    }
   ],
   "source": [
    "import matplotlib.pyplot as plt\n",
    "\n",
    "acc = history.history[\"accuracy\"]\n",
    "val_acc = history.history[\"val_accuracy\"]\n",
    "loss = history.history[\"loss\"]\n",
    "val_loss = history.history[\"val_loss\"]\n",
    "\n",
    "epochs = range(len(acc))\n",
    "\n",
    "plt.plot(epochs, acc, \"r\", label=\"Training accuracy\")\n",
    "plt.plot(epochs, val_acc, \"b\", label=\"Validation accuracy\")\n",
    "plt.title(\"Training and validation accuracy\")\n",
    "plt.legend(loc=0)\n",
    "plt.figure()\n",
    "\n",
    "\n",
    "plt.show()"
   ]
  },
  {
   "cell_type": "code",
   "execution_count": null,
   "id": "d436ec0c-36b0-475e-ba93-88ff95ca1d7d",
   "metadata": {},
   "outputs": [],
   "source": []
  },
  {
   "cell_type": "code",
   "execution_count": null,
   "id": "e8eac483-9120-4288-9f7f-bb8731cacdb6",
   "metadata": {},
   "outputs": [],
   "source": []
  },
  {
   "cell_type": "code",
   "execution_count": null,
   "id": "e19f5d24-3dc3-4ea9-a643-a8dbd8c94f68",
   "metadata": {},
   "outputs": [],
   "source": []
  }
 ],
 "metadata": {
  "kernelspec": {
   "display_name": "Python 3",
   "language": "python",
   "name": "python3"
  },
  "language_info": {
   "codemirror_mode": {
    "name": "ipython",
    "version": 3
   },
   "file_extension": ".py",
   "mimetype": "text/x-python",
   "name": "python",
   "nbconvert_exporter": "python",
   "pygments_lexer": "ipython3",
   "version": "3.8.5"
  }
 },
 "nbformat": 4,
 "nbformat_minor": 5
}
